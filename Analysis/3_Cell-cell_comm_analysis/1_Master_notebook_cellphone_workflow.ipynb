{
 "cells": [
  {
   "cell_type": "markdown",
   "id": "minus-employer",
   "metadata": {},
   "source": [
    "# Cell-cell communication analysis\n",
    "\n",
    "For more details about every step please look into each notebook that is being called from here\n"
   ]
  },
  {
   "cell_type": "markdown",
   "id": "impressive-engineer",
   "metadata": {},
   "source": [
    "#### 1. Preparing files containing manually curated L/R interactions"
   ]
  },
  {
   "cell_type": "code",
   "execution_count": 1,
   "id": "complimentary-champion",
   "metadata": {},
   "outputs": [],
   "source": [
    "# produces the following files in this directory: interactions_curated_v2.tsv and complex_curated_v2.tsv \n",
    "# for all curated interactions and complex interactions, respectively\n",
    "%run ./S0_prep_interactions_complexes.ipynb"
   ]
  },
  {
   "cell_type": "markdown",
   "id": "arabic-simple",
   "metadata": {},
   "source": [
    "#### 2. Generating CellPhone database\n",
    "\n",
    "Takes a couple of minutes"
   ]
  },
  {
   "cell_type": "code",
   "execution_count": 3,
   "id": "amateur-advocate",
   "metadata": {},
   "outputs": [
    {
     "name": "stderr",
     "output_type": "stream",
     "text": [
      "/opt/conda/lib/python3.8/site-packages/sklearn/utils/deprecation.py:144: FutureWarning: The sklearn.cluster.k_means_ module is  deprecated in version 0.22 and will be removed in version 0.24. The corresponding classes / functions should instead be imported from sklearn.cluster. Anything that cannot be imported from sklearn.cluster is now part of the private API.\n",
      "  warnings.warn(message, FutureWarning)\n",
      "/opt/conda/lib/python3.8/site-packages/cellphonedb/src/api_endpoints/terminal_api/tools_terminal_api_endpoints/tools_terminal_commands.py:243: FutureWarning: The pandas.np module is deprecated and will be removed from pandas in a future version. Import numpy directly instead\n",
      "  'secreted_desc': pd.np.nan,\n",
      "/opt/conda/lib/python3.8/site-packages/cellphonedb/src/api_endpoints/terminal_api/tools_terminal_api_endpoints/tools_terminal_commands.py:246: FutureWarning: The pandas.np module is deprecated and will be removed from pandas in a future version. Import numpy directly instead\n",
      "  'receptor_desc': pd.np.nan,\n",
      "/opt/conda/lib/python3.8/site-packages/cellphonedb/src/api_endpoints/terminal_api/tools_terminal_api_endpoints/tools_terminal_commands.py:249: FutureWarning: The pandas.np module is deprecated and will be removed from pandas in a future version. Import numpy directly instead\n",
      "  'other_desc': pd.np.nan,\n",
      "/opt/conda/lib/python3.8/site-packages/cellphonedb/src/api_endpoints/terminal_api/tools_terminal_api_endpoints/tools_terminal_commands.py:251: FutureWarning: The pandas.np module is deprecated and will be removed from pandas in a future version. Import numpy directly instead\n",
      "  'tags_reason': pd.np.nan,\n",
      "/opt/conda/lib/python3.8/site-packages/cellphonedb/src/api_endpoints/terminal_api/tools_terminal_api_endpoints/tools_terminal_commands.py:252: FutureWarning: The pandas.np module is deprecated and will be removed from pandas in a future version. Import numpy directly instead\n",
      "  'tags_description': pd.np.nan,\n",
      "/opt/conda/lib/python3.8/site-packages/cellphonedb/src/api_endpoints/terminal_api/tools_terminal_api_endpoints/tools_terminal_commands.py:253: FutureWarning: The pandas.np module is deprecated and will be removed from pandas in a future version. Import numpy directly instead\n",
      "  'pfam': pd.np.nan,\n",
      "/opt/conda/lib/python3.8/site-packages/cellphonedb/src/core/generators/gene_generator.py:31: SettingWithCopyWarning: \n",
      "A value is trying to be set on a copy of a slice from a DataFrame\n",
      "\n",
      "See the caveats in the documentation: https://pandas.pydata.org/pandas-docs/stable/user_guide/indexing.html#returning-a-view-versus-a-copy\n",
      "  ensembl_db_filtered.dropna(inplace=True)\n",
      "Fetching sources    : 100%|██████████| 10/10 [00:03<00:00,  3.83it/s]\n",
      "/opt/conda/lib/python3.8/site-packages/pandas/core/frame.py:4300: SettingWithCopyWarning: \n",
      "A value is trying to be set on a copy of a slice from a DataFrame\n",
      "\n",
      "See the caveats in the documentation: https://pandas.pydata.org/pandas-docs/stable/user_guide/indexing.html#returning-a-view-versus-a-copy\n",
      "  return super().rename(\n"
     ]
    }
   ],
   "source": [
    "# generates a database subdirectory with all associated files \n",
    "# the .db file within database will later be used in extracting interactions \n",
    "\n",
    "# it's normal to see some warning messages\n",
    "%run ./S1_generating_database_and_cellphone_analysis.ipynb"
   ]
  },
  {
   "cell_type": "code",
   "execution_count": null,
   "id": "beginning-sampling",
   "metadata": {},
   "outputs": [],
   "source": []
  },
  {
   "cell_type": "markdown",
   "id": "immune-penny",
   "metadata": {},
   "source": [
    "#### 3. Preparing the signle cell RNA sequencing (scRNA-seq) dataset for CellPhoneDB\n",
    "\n",
    "As a reference scRNA-seq dataset, we are using a human kidney dataset from [Young et al., Science 2018](https://science.sciencemag.org/content/361/6402/594.editor-summary)"
   ]
  },
  {
   "cell_type": "code",
   "execution_count": 5,
   "id": "partial-cinema",
   "metadata": {},
   "outputs": [
    {
     "name": "stderr",
     "output_type": "stream",
     "text": [
      "Variable names are not unique. To make them unique, call `.var_names_make_unique`.\n",
      "normalizing by total count per cell\n",
      "    finished (0:00:00): normalized adata.X and added    'n_counts', counts per cell before normalization (adata.obs)\n",
      "... storing 'SangerID' as categorical\n",
      "... storing 'Barcode' as categorical\n",
      "... storing 'ClusterID' as categorical\n",
      "... storing 'Compartment' as categorical\n",
      "... storing 'Source' as categorical\n",
      "... storing 'cell_type_general' as categorical\n"
     ]
    }
   ],
   "source": [
    "# takes a couple of minutes\n",
    "# generates the following files: adata_for_cellphone.h5ad (count file), cellphonedb_meta.tsv (cell type assignment) and PercentExpressed_for_cellphone.csv (percent of cells in a cell type expressing genes) \n",
    "%run ./S2_data2cellphone_input.ipynb"
   ]
  },
  {
   "cell_type": "markdown",
   "id": "major-regular",
   "metadata": {},
   "source": [
    "#### 4. Extracting all interactions from the scRNA-seq reference dataset\n"
   ]
  },
  {
   "cell_type": "code",
   "execution_count": 6,
   "id": "flexible-rugby",
   "metadata": {},
   "outputs": [
    {
     "name": "stderr",
     "output_type": "stream",
     "text": [
      "/opt/conda/lib/python3.8/site-packages/sklearn/utils/deprecation.py:144: FutureWarning: The sklearn.cluster.k_means_ module is  deprecated in version 0.22 and will be removed in version 0.24. The corresponding classes / functions should instead be imported from sklearn.cluster. Anything that cannot be imported from sklearn.cluster is now part of the private API.\n",
      "  warnings.warn(message, FutureWarning)\n"
     ]
    }
   ],
   "source": [
    "# generates ./out subfolder containing mean expression of genes encoding ligands and receptors\n",
    "%run ./S3_extract_interactions.ipynb"
   ]
  },
  {
   "cell_type": "markdown",
   "id": "going-accordance",
   "metadata": {},
   "source": [
    "#### 5. Performing differential expression (DE) analysis of the NanoString ROIs\n",
    "\n",
    "(here the user can focus on a particular comparison of interest, in this demonstrative workflow we compare abnormal and healthy glomeruli, as annotated by pathology in NanoString dataset, to explore potential dysregulation of cell-cell communication networks in abnormal glomeruli)"
   ]
  },
  {
   "cell_type": "code",
   "execution_count": 8,
   "id": "architectural-european",
   "metadata": {},
   "outputs": [
    {
     "name": "stdout",
     "output_type": "stream",
     "text": [
      "The rpy2.ipython extension is already loaded. To reload it, use:\n",
      "  %reload_ext rpy2.ipython\n",
      "[1] \"abnormal\" \"healthy\" \n"
     ]
    },
    {
     "name": "stderr",
     "output_type": "stream",
     "text": [
      "R[write to console]: 149 shared cells\n",
      "\n"
     ]
    },
    {
     "name": "stdout",
     "output_type": "stream",
     "text": [
      "[1] \"case\" \"ctrl\"\n"
     ]
    }
   ],
   "source": [
    "# generates table of DE genes for comparison of interest: joint_DEGs_list_all_cell_types_for_cellphone.csv\n",
    "# to play with the parameters, please see S4 notebook\n",
    "%run ./S4_DE_analysis_limma_ROIs.ipynb"
   ]
  },
  {
   "cell_type": "markdown",
   "id": "chronic-thing",
   "metadata": {},
   "source": [
    "#### 6. Intersecting the DE genes from (5) with all possible interactions between cell types colocated in space as inferred from prior cell type deconvolution of each NanoString ROI using scRNA-seq reference dataset"
   ]
  },
  {
   "cell_type": "code",
   "execution_count": 9,
   "id": "friendly-romantic",
   "metadata": {},
   "outputs": [
    {
     "name": "stdout",
     "output_type": "stream",
     "text": [
      "(61319, 10)\n",
      "(34136, 10)\n",
      "(27183, 10)\n",
      "CPU times: user 32.6 s, sys: 0 ns, total: 32.6 s\n",
      "Wall time: 32.6 s\n",
      "CPU times: user 31.8 s, sys: 8.01 ms, total: 31.8 s\n",
      "Wall time: 31.8 s\n",
      "(809, 289)\n",
      "(809, 289)\n",
      "(303, 289)\n",
      "(303, 289)\n",
      "CPU times: user 4.79 s, sys: 7.76 ms, total: 4.8 s\n",
      "Wall time: 4.8 s\n",
      "CPU times: user 4.06 s, sys: 7.33 ms, total: 4.07 s\n",
      "Wall time: 4.07 s\n",
      "shape after filtering interactions\n",
      "(303, 251) \n",
      "\n",
      "shape after filtering cell type pairs\n",
      "(86, 251) \n",
      "\n",
      "shape after filtering interactions\n",
      "(303, 281) \n",
      "\n",
      "shape after filtering cell type pairs\n",
      "(60, 281) \n",
      "\n",
      "CPU times: user 1.06 s, sys: 7.9 ms, total: 1.07 s\n",
      "Wall time: 1.07 s\n",
      "CPU times: user 1.09 s, sys: 7.96 ms, total: 1.1 s\n",
      "Wall time: 1.1 s\n"
     ]
    }
   ],
   "source": [
    "# generates tables of cellphone results for interactions up or downregulated in abnormal glomeruli with associated statistics: \n",
    "# cellphone_interactions_table_with_gene_stats_downreg_in_abnormal_vs_healthy_no_logFC_cutoff_all.csv\n",
    "# cellphone_interactions_table_with_gene_stats_upreg_in_abnormal_vs_healthy_no_logFC_cutoff_all.csv\n",
    "# and a .csv file with spatially colocated cell types: coloc_cell_types.csv\n",
    "\n",
    "\n",
    "# to play with the parameters, please see S5 notebook\n",
    "%run ./S5_interactions_rewritten_in_python.ipynb"
   ]
  },
  {
   "cell_type": "markdown",
   "id": "identified-vertex",
   "metadata": {},
   "source": [
    "#### 7. Visualisation → in notebook `2_Visualisation.ipynb`"
   ]
  },
  {
   "cell_type": "code",
   "execution_count": null,
   "id": "advised-professor",
   "metadata": {},
   "outputs": [],
   "source": []
  },
  {
   "cell_type": "code",
   "execution_count": null,
   "id": "answering-easter",
   "metadata": {},
   "outputs": [],
   "source": []
  },
  {
   "cell_type": "code",
   "execution_count": null,
   "id": "individual-question",
   "metadata": {},
   "outputs": [],
   "source": []
  },
  {
   "cell_type": "code",
   "execution_count": null,
   "id": "trained-bradley",
   "metadata": {},
   "outputs": [],
   "source": []
  },
  {
   "cell_type": "code",
   "execution_count": null,
   "id": "facial-speaking",
   "metadata": {},
   "outputs": [],
   "source": []
  },
  {
   "cell_type": "code",
   "execution_count": null,
   "id": "palestinian-intro",
   "metadata": {},
   "outputs": [],
   "source": []
  },
  {
   "cell_type": "code",
   "execution_count": null,
   "id": "native-regard",
   "metadata": {},
   "outputs": [],
   "source": []
  },
  {
   "cell_type": "code",
   "execution_count": null,
   "id": "valuable-reynolds",
   "metadata": {},
   "outputs": [],
   "source": []
  }
 ],
 "metadata": {
  "kernelspec": {
   "display_name": "Python 3",
   "language": "python",
   "name": "python3"
  },
  "language_info": {
   "codemirror_mode": {
    "name": "ipython",
    "version": 3
   },
   "file_extension": ".py",
   "mimetype": "text/x-python",
   "name": "python",
   "nbconvert_exporter": "python",
   "pygments_lexer": "ipython3",
   "version": "3.8.8"
  }
 },
 "nbformat": 4,
 "nbformat_minor": 5
}
