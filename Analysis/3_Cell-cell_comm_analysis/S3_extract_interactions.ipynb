{
 "cells": [
  {
   "cell_type": "markdown",
   "metadata": {},
   "source": [
    "# Cell-cell communication analysis\n",
    "\n",
    "## Extracting all interactions from the scRNA-seq reference dataset"
   ]
  },
  {
   "cell_type": "code",
   "execution_count": 1,
   "metadata": {},
   "outputs": [
    {
     "name": "stderr",
     "output_type": "stream",
     "text": [
      "/opt/conda/lib/python3.8/site-packages/sklearn/utils/deprecation.py:144: FutureWarning: The sklearn.cluster.k_means_ module is  deprecated in version 0.22 and will be removed in version 0.24. The corresponding classes / functions should instead be imported from sklearn.cluster. Anything that cannot be imported from sklearn.cluster is now part of the private API.\n",
      "  warnings.warn(message, FutureWarning)\n"
     ]
    }
   ],
   "source": [
    "%%bash\n",
    "\n",
    "# takes some time, needs about 20 Gb of RAM\n",
    "\n",
    "cellphonedb method analysis \\\n",
    "    ./cellphonedb_meta.tsv \\\n",
    "    ./adata_for_cellphone.h5ad \\\n",
    "    --database ./database/cellphonedb_user_2021-05-02-15_16.db \\\n",
    "    --counts-data hgnc_symbol \\\n",
    "    --output-path ./out/ \\\n",
    "    --threshold 0 > cellphone_log.txt"
   ]
  },
  {
   "cell_type": "code",
   "execution_count": null,
   "metadata": {},
   "outputs": [],
   "source": []
  }
 ],
 "metadata": {
  "kernelspec": {
   "display_name": "Nanostring Hack 2021",
   "language": "python",
   "name": "nanostring-hack-2021"
  },
  "language_info": {
   "codemirror_mode": {
    "name": "ipython",
    "version": 3
   },
   "file_extension": ".py",
   "mimetype": "text/x-python",
   "name": "python",
   "nbconvert_exporter": "python",
   "pygments_lexer": "ipython3",
   "version": "3.8.8"
  }
 },
 "nbformat": 4,
 "nbformat_minor": 4
}
