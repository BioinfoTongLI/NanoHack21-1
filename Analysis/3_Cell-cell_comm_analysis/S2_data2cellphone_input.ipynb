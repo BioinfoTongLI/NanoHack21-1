{
 "cells": [
  {
   "cell_type": "markdown",
   "metadata": {},
   "source": [
    "# Cell-cell communication analysis\n",
    "\n",
    "### Preparing the signle cell RNA sequencing (scRNA-seq) reference dataset for CellPhoneDB\n",
    "\n",
    "From [Young et al., Science 2018](https://science.sciencemag.org/content/361/6402/594.editor-summary)"
   ]
  },
  {
   "cell_type": "code",
   "execution_count": 1,
   "metadata": {},
   "outputs": [],
   "source": [
    "%matplotlib inline\n",
    "\n",
    "import numpy as np\n",
    "import pandas as pd\n",
    "from scipy.io import mmread\n",
    "import seaborn as sns\n",
    "import scanpy as sc\n",
    "import anndata\n",
    "import matplotlib as mpl\n",
    "import scipy\n",
    "import matplotlib.pyplot as plt\n",
    "\n",
    "sc.settings.verbosity = 3  # verbosity: errors (0), warnings (1), info (2), hints (3)\n",
    "#sc.logging.print_versions()\n",
    "sc.settings.set_figure_params(dpi=80)  # low dpi (dots per inch) yields small inline figures"
   ]
  },
  {
   "cell_type": "code",
   "execution_count": 2,
   "metadata": {},
   "outputs": [],
   "source": [
    "reference_data_path = './Young_Science_2018_data/'\n",
    "nanostring_data_path = '../KidneyDataset/'"
   ]
  },
  {
   "cell_type": "markdown",
   "metadata": {},
   "source": [
    "## Reading the data dowloaded from [here](https://science.sciencemag.org/highwire/filestream/713964/field_highwire_adjunct_files/6/aat1699_DataS1.gz.zip)"
   ]
  },
  {
   "cell_type": "code",
   "execution_count": 3,
   "metadata": {},
   "outputs": [],
   "source": [
    "# raw count data\n",
    "kidney_data = mmread(reference_data_path + 'tableOfCounts.mtx').T\n",
    "kidney_data = kidney_data.tocsr()\n",
    "\n",
    "# column data\n",
    "kidney_data_cols = pd.read_csv(reference_data_path + 'tableOfCounts_colLabels.tsv',\n",
    "                              sep='\\t', index_col=0)\n",
    "kidney_data_cols.set_index('DropletID', inplace = True)\n",
    "\n",
    "# row data\n",
    "kidney_data_rows = pd.read_csv(reference_data_path + 'tableOfCounts_rowLabels.tsv',\n",
    "                              sep='\\t', index_col=0)\n",
    "kidney_data_rows.set_index('Symbol', inplace=True)\n",
    "\n",
    "# read in metadata to retreive cell type labels and match up barcodes\n",
    "# downloaded from here: https://science.sciencemag.org/highwire/filestream/713964/field_highwire_adjunct_files/5/aat1699-Young-TablesS1-S12-revision2.xlsx\n",
    "kidney_data_meta = pd.read_excel(reference_data_path + 'aat1699-Young-TablesS1-S12-revision2.xlsx',\n",
    "                                 engine='openpyxl', header=1,\n",
    "                                 sheet_name=10)\n",
    "kidney_data_meta.set_index('DropletID', inplace=True)\n",
    "\n",
    "# get rid of NaNs in ClusterID column\n",
    "kidney_data_meta['ClusterID'] = [elem if str(elem) != 'nan' else 'NA' for elem in kidney_data_meta['ClusterID']]"
   ]
  },
  {
   "cell_type": "code",
   "execution_count": 4,
   "metadata": {
    "tags": []
   },
   "outputs": [],
   "source": [
    "# reading in the cell type expression profiles for cell types used in NanoString ROI deconvolution\n",
    "Cell_Types_for_Spatial_Decon = pd.read_csv(nanostring_data_path + 'Cell_Types_for_Spatial_Decon.txt',\n",
    "                                          sep='\\t')"
   ]
  },
  {
   "cell_type": "code",
   "execution_count": 5,
   "metadata": {},
   "outputs": [
    {
     "name": "stderr",
     "output_type": "stream",
     "text": [
      "Variable names are not unique. To make them unique, call `.var_names_make_unique`.\n"
     ]
    }
   ],
   "source": [
    "# making an adata object of the kidney scRNA-seq, all cells\n",
    "adata_kidney = anndata.AnnData(X = kidney_data,\n",
    "                               obs = kidney_data_cols,\n",
    "                               var = kidney_data_rows\n",
    "                              )"
   ]
  },
  {
   "cell_type": "code",
   "execution_count": 6,
   "metadata": {},
   "outputs": [],
   "source": [
    "adata_kidney.var_names_make_unique()"
   ]
  },
  {
   "cell_type": "code",
   "execution_count": 7,
   "metadata": {},
   "outputs": [],
   "source": [
    "# adding metadata\n",
    "for col in kidney_data_meta.columns:\n",
    "    #print(col)\n",
    "    adata_kidney.obs[col] = kidney_data_meta.loc[adata_kidney.obs_names, col]\n",
    "# get rid of NaNs in ClusterID column\n",
    "adata_kidney.obs['ClusterID'] = [elem if str(elem) != 'nan' else 'NA' for elem in adata_kidney.obs['ClusterID']]"
   ]
  },
  {
   "cell_type": "code",
   "execution_count": 8,
   "metadata": {},
   "outputs": [],
   "source": [
    "# subsetting to only clusters that have been used in NanoString deconvolution\n",
    "adata_kidney = adata_kidney[adata_kidney.obs['ClusterID'].isin(np.unique(Cell_Types_for_Spatial_Decon['ClusterID']))].copy()"
   ]
  },
  {
   "cell_type": "code",
   "execution_count": 9,
   "metadata": {},
   "outputs": [],
   "source": [
    "# add values from Cell_Types_for_Spatial_Decon['cell_type_general'] to  kidney_data_meta['cell_type_general']\n",
    "def add_cell_type_general(adata_obj, barcode):\n",
    "    curr_ClusterID = adata_obj.obs.loc[barcode, 'ClusterID']\n",
    "    \n",
    "    ct_general = Cell_Types_for_Spatial_Decon.set_index('ClusterID').loc[curr_ClusterID, 'cell_type_general']\n",
    "    \n",
    "    return(ct_general)\n",
    "\n",
    "adata_kidney.obs['barcode'] = adata_kidney.obs.index \n",
    "adata_kidney.obs['cell_type_general'] = adata_kidney.obs['barcode'].apply(lambda x: add_cell_type_general(adata_kidney, x))"
   ]
  },
  {
   "cell_type": "markdown",
   "metadata": {},
   "source": [
    "## Processing and saving scRNA-seq count data for CellPhoneDB"
   ]
  },
  {
   "cell_type": "code",
   "execution_count": 10,
   "metadata": {},
   "outputs": [
    {
     "name": "stderr",
     "output_type": "stream",
     "text": [
      "normalizing by total count per cell\n",
      "    finished (0:00:00): normalized adata.X and added    'n_counts', counts per cell before normalization (adata.obs)\n"
     ]
    }
   ],
   "source": [
    "# normalising raw counts\n",
    "sc.pp.normalize_per_cell(adata_kidney, counts_per_cell_after=1e4)\n",
    "\n",
    "# normalised count values\n",
    "adata_count = anndata.AnnData(X=adata_kidney.X, var=adata_kidney.var, obs=adata_kidney.obs)\n",
    "\n",
    "# cell type assignment\n",
    "df_meta = pd.DataFrame(data={'Cell':list(adata_count.obs.index),\n",
    "                             'cell_type':[ 'celltype_'+str(i) for i in adata_kidney.obs['cell_type_general']] })"
   ]
  },
  {
   "cell_type": "code",
   "execution_count": 11,
   "metadata": {},
   "outputs": [
    {
     "name": "stderr",
     "output_type": "stream",
     "text": [
      "... storing 'SangerID' as categorical\n",
      "... storing 'Barcode' as categorical\n",
      "... storing 'ClusterID' as categorical\n",
      "... storing 'Compartment' as categorical\n",
      "... storing 'Source' as categorical\n",
      "... storing 'cell_type_general' as categorical\n"
     ]
    }
   ],
   "source": [
    "# saving the .h5ad file with counts\n",
    "adata_count.write('./adata_for_cellphone.h5ad')\n",
    "\n",
    "# saving the metadata file with cell type assignment\n",
    "df_meta.to_csv('./cellphonedb_meta.tsv', sep = '\\t')"
   ]
  },
  {
   "cell_type": "markdown",
   "metadata": {},
   "source": [
    "# Preparing a table of expression proportions\n",
    "\n",
    "Matrix of genes (rows) per celltypes (columns) containing the proportion [0-1] of cells in a celltype expressing the gene"
   ]
  },
  {
   "cell_type": "code",
   "execution_count": 20,
   "metadata": {},
   "outputs": [],
   "source": [
    "df_expr_matrix = pd.DataFrame(adata_count.X.T.todense(), columns=adata_count.obs_names, index=adata_count.var_names)"
   ]
  },
  {
   "cell_type": "code",
   "execution_count": 21,
   "metadata": {
    "tags": []
   },
   "outputs": [],
   "source": [
    "df_expr_matrix_per_cell_type = {}\n",
    "\n",
    "for ct in np.unique(adata_count.obs['cell_type_general']):\n",
    "    curr_subset_of_barcodes = list(adata_count[adata_count.obs['cell_type_general'] == ct].obs_names)\n",
    "    df_expr_matrix_per_cell_type[ct] = df_expr_matrix.loc[:,curr_subset_of_barcodes]"
   ]
  },
  {
   "cell_type": "code",
   "execution_count": 22,
   "metadata": {},
   "outputs": [],
   "source": [
    "df_percentage_expressed = pd.DataFrame(index = df_expr_matrix.index,\n",
    "                                      columns=np.unique(adata_count.obs['cell_type_general']))"
   ]
  },
  {
   "cell_type": "code",
   "execution_count": 23,
   "metadata": {},
   "outputs": [],
   "source": [
    "for col in df_percentage_expressed.columns:\n",
    "    #print(col)\n",
    "    df_percentage_expressed.loc[:,col] = df_expr_matrix_per_cell_type[col].astype(bool).sum(axis=1)/df_expr_matrix_per_cell_type[col].shape[1]"
   ]
  },
  {
   "cell_type": "code",
   "execution_count": 25,
   "metadata": {},
   "outputs": [],
   "source": [
    "# save \n",
    "df_percentage_expressed.to_csv('./PercentExpressed_for_cellphone.csv')"
   ]
  },
  {
   "cell_type": "code",
   "execution_count": null,
   "metadata": {},
   "outputs": [],
   "source": []
  },
  {
   "cell_type": "code",
   "execution_count": null,
   "metadata": {},
   "outputs": [],
   "source": []
  },
  {
   "cell_type": "code",
   "execution_count": null,
   "metadata": {},
   "outputs": [],
   "source": []
  },
  {
   "cell_type": "code",
   "execution_count": null,
   "metadata": {},
   "outputs": [],
   "source": []
  },
  {
   "cell_type": "code",
   "execution_count": null,
   "metadata": {},
   "outputs": [],
   "source": []
  },
  {
   "cell_type": "code",
   "execution_count": null,
   "metadata": {},
   "outputs": [],
   "source": []
  },
  {
   "cell_type": "code",
   "execution_count": null,
   "metadata": {},
   "outputs": [],
   "source": []
  },
  {
   "cell_type": "code",
   "execution_count": null,
   "metadata": {},
   "outputs": [],
   "source": []
  }
 ],
 "metadata": {
  "kernelspec": {
   "display_name": "Nanostring Hack 2021",
   "language": "python",
   "name": "nanostring-hack-2021"
  },
  "language_info": {
   "codemirror_mode": {
    "name": "ipython",
    "version": 3
   },
   "file_extension": ".py",
   "mimetype": "text/x-python",
   "name": "python",
   "nbconvert_exporter": "python",
   "pygments_lexer": "ipython3",
   "version": "3.8.8"
  }
 },
 "nbformat": 4,
 "nbformat_minor": 4
}
